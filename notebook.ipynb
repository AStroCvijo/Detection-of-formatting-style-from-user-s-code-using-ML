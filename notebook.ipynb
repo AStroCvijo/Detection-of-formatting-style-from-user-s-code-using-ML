{
 "cells": [
  {
   "cell_type": "code",
   "execution_count": 1,
   "id": "5e84dcb3-82b0-4744-ac26-eec3f1ade3f3",
   "metadata": {},
   "outputs": [],
   "source": [
    "import os\n",
    "import re\n",
    "import shutil\n",
    "import torch\n",
    "import torch.nn as nn\n",
    "import torch.optim as optim\n",
    "from torch.nn.utils.rnn import pad_sequence, pack_padded_sequence\n",
    "from sklearn.model_selection import train_test_split\n",
    "from torch.utils.data import DataLoader, Dataset, TensorDataset\n",
    "from sklearn.preprocessing import LabelEncoder\n",
    "\n",
    "# Import functions for seed setting\n",
    "from utils.seed import set_seed, init_weights\n",
    "\n",
    "# Import the function for filtering Coq files\n",
    "from data.data_functions import filter_coq_files\n",
    "\n",
    "# Import the functions for preprocessing the data\n",
    "from data.data_functions import (\n",
    "    tokenize_coq_files_in_directory,\n",
    "    create_sequences_and_labels,\n",
    "    build_vocab,\n",
    "    tokens_to_indices,\n",
    "    split_data,\n",
    "    CoqTokenDataset\n",
    ")\n",
    "\n",
    "# Import the function for training and evaluating the model\n",
    "from train.eval import eval\n",
    "\n",
    "# Import the models\n",
    "from model.LSTM import LSTM\n",
    "from model.transformer import Transformer\n",
    "from model.n_gram import NGram\n",
    "from model.LSTMFS import LSTMFS"
   ]
  },
  {
   "cell_type": "code",
   "execution_count": 2,
   "id": "c70075ea-1b40-480e-a524-8e96ee33db52",
   "metadata": {},
   "outputs": [],
   "source": [
    "# Set the seed\n",
    "seed = 42\n",
    "set_seed(seed)"
   ]
  },
  {
   "cell_type": "markdown",
   "id": "cf92a343-70fd-4cb6-807a-a52e72024773",
   "metadata": {},
   "source": [
    "## Extract the **Coq** files from **\"math-comp\"** folder"
   ]
  },
  {
   "cell_type": "code",
   "execution_count": 3,
   "id": "68231097-2e1a-47df-8162-909eb618b790",
   "metadata": {
    "scrolled": true
   },
   "outputs": [
    {
     "name": "stdout",
     "output_type": "stream",
     "text": [
      "Copied: data/math-comp/mathcomp/ssreflect/ssrbool.v -> data/coq_files/ssrbool.v\n",
      "Copied: data/math-comp/mathcomp/ssreflect/ssrfun.v -> data/coq_files/ssrfun.v\n",
      "Copied: data/math-comp/mathcomp/ssreflect/seq.v -> data/coq_files/seq.v\n",
      "Copied: data/math-comp/mathcomp/ssreflect/fintype.v -> data/coq_files/fintype.v\n",
      "Copied: data/math-comp/mathcomp/ssreflect/bigop.v -> data/coq_files/bigop.v\n",
      "Copied: data/math-comp/mathcomp/ssreflect/all_ssreflect.v -> data/coq_files/all_ssreflect.v\n",
      "Copied: data/math-comp/mathcomp/ssreflect/generic_quotient.v -> data/coq_files/generic_quotient.v\n",
      "Copied: data/math-comp/mathcomp/ssreflect/ssrnotations.v -> data/coq_files/ssrnotations.v\n",
      "Copied: data/math-comp/mathcomp/ssreflect/fingraph.v -> data/coq_files/fingraph.v\n",
      "Copied: data/math-comp/mathcomp/ssreflect/binomial.v -> data/coq_files/binomial.v\n",
      "Copied: data/math-comp/mathcomp/ssreflect/finfun.v -> data/coq_files/finfun.v\n",
      "Copied: data/math-comp/mathcomp/ssreflect/prime.v -> data/coq_files/prime.v\n",
      "Copied: data/math-comp/mathcomp/ssreflect/ssreflect.v -> data/coq_files/ssreflect.v\n",
      "Copied: data/math-comp/mathcomp/ssreflect/finset.v -> data/coq_files/finset.v\n",
      "Copied: data/math-comp/mathcomp/ssreflect/div.v -> data/coq_files/div.v\n",
      "Copied: data/math-comp/mathcomp/ssreflect/order.v -> data/coq_files/order.v\n",
      "Copied: data/math-comp/mathcomp/ssreflect/ssrAC.v -> data/coq_files/ssrAC.v\n",
      "Copied: data/math-comp/mathcomp/ssreflect/ssrmatching.v -> data/coq_files/ssrmatching.v\n",
      "Copied: data/math-comp/mathcomp/ssreflect/eqtype.v -> data/coq_files/eqtype.v\n",
      "Copied: data/math-comp/mathcomp/ssreflect/tuple.v -> data/coq_files/tuple.v\n",
      "Copied: data/math-comp/mathcomp/ssreflect/choice.v -> data/coq_files/choice.v\n",
      "Copied: data/math-comp/mathcomp/ssreflect/path.v -> data/coq_files/path.v\n",
      "Copied: data/math-comp/mathcomp/ssreflect/ssrnat.v -> data/coq_files/ssrnat.v\n",
      "Copied: data/math-comp/mathcomp/solvable/burnside_app.v -> data/coq_files/burnside_app.v\n",
      "Copied: data/math-comp/mathcomp/solvable/center.v -> data/coq_files/center.v\n",
      "Copied: data/math-comp/mathcomp/solvable/gfunctor.v -> data/coq_files/gfunctor.v\n",
      "Copied: data/math-comp/mathcomp/solvable/sylow.v -> data/coq_files/sylow.v\n",
      "Copied: data/math-comp/mathcomp/solvable/commutator.v -> data/coq_files/commutator.v\n",
      "Copied: data/math-comp/mathcomp/solvable/extraspecial.v -> data/coq_files/extraspecial.v\n",
      "Copied: data/math-comp/mathcomp/solvable/nilpotent.v -> data/coq_files/nilpotent.v\n",
      "Copied: data/math-comp/mathcomp/solvable/gseries.v -> data/coq_files/gseries.v\n",
      "Copied: data/math-comp/mathcomp/solvable/hall.v -> data/coq_files/hall.v\n",
      "Copied: data/math-comp/mathcomp/solvable/cyclic.v -> data/coq_files/cyclic.v\n",
      "Copied: data/math-comp/mathcomp/solvable/jordanholder.v -> data/coq_files/jordanholder.v\n",
      "Copied: data/math-comp/mathcomp/solvable/alt.v -> data/coq_files/alt.v\n",
      "Copied: data/math-comp/mathcomp/solvable/primitive_action.v -> data/coq_files/primitive_action.v\n",
      "Copied: data/math-comp/mathcomp/solvable/finmodule.v -> data/coq_files/finmodule.v\n",
      "Copied: data/math-comp/mathcomp/solvable/abelian.v -> data/coq_files/abelian.v\n",
      "Copied: data/math-comp/mathcomp/solvable/extremal.v -> data/coq_files/extremal.v\n",
      "Copied: data/math-comp/mathcomp/solvable/all_solvable.v -> data/coq_files/all_solvable.v\n",
      "Copied: data/math-comp/mathcomp/solvable/frobenius.v -> data/coq_files/frobenius.v\n",
      "Copied: data/math-comp/mathcomp/solvable/pgroup.v -> data/coq_files/pgroup.v\n",
      "Copied: data/math-comp/mathcomp/solvable/maximal.v -> data/coq_files/maximal.v\n",
      "Copied: data/math-comp/mathcomp/algebra/qpoly.v -> data/coq_files/qpoly.v\n",
      "Copied: data/math-comp/mathcomp/algebra/polydiv.v -> data/coq_files/polydiv.v\n",
      "Copied: data/math-comp/mathcomp/algebra/interval.v -> data/coq_files/interval.v\n",
      "Copied: data/math-comp/mathcomp/algebra/fraction.v -> data/coq_files/fraction.v\n",
      "Copied: data/math-comp/mathcomp/algebra/intdiv.v -> data/coq_files/intdiv.v\n",
      "Copied: data/math-comp/mathcomp/algebra/ssrint.v -> data/coq_files/ssrint.v\n",
      "Copied: data/math-comp/mathcomp/algebra/ssralg.v -> data/coq_files/ssralg.v\n",
      "Copied: data/math-comp/mathcomp/algebra/countalg.v -> data/coq_files/countalg.v\n",
      "Copied: data/math-comp/mathcomp/algebra/mxpoly.v -> data/coq_files/mxpoly.v\n",
      "Copied: data/math-comp/mathcomp/algebra/mxalgebra.v -> data/coq_files/mxalgebra.v\n",
      "Copied: data/math-comp/mathcomp/algebra/ring_quotient.v -> data/coq_files/ring_quotient.v\n",
      "Copied: data/math-comp/mathcomp/algebra/poly.v -> data/coq_files/poly.v\n",
      "Copied: data/math-comp/mathcomp/algebra/polyXY.v -> data/coq_files/polyXY.v\n",
      "Copied: data/math-comp/mathcomp/algebra/ssrnum.v -> data/coq_files/ssrnum.v\n",
      "Copied: data/math-comp/mathcomp/algebra/finalg.v -> data/coq_files/finalg.v\n",
      "Copied: data/math-comp/mathcomp/algebra/vector.v -> data/coq_files/vector.v\n",
      "Copied: data/math-comp/mathcomp/algebra/matrix.v -> data/coq_files/matrix.v\n",
      "Copied: data/math-comp/mathcomp/algebra/zmodp.v -> data/coq_files/zmodp.v\n",
      "Copied: data/math-comp/mathcomp/algebra/archimedean.v -> data/coq_files/archimedean.v\n",
      "Copied: data/math-comp/mathcomp/algebra/rat.v -> data/coq_files/rat.v\n",
      "Copied: data/math-comp/mathcomp/algebra/all_algebra.v -> data/coq_files/all_algebra.v\n",
      "Copied: data/math-comp/mathcomp/field/fieldext.v -> data/coq_files/fieldext.v\n",
      "Copied: data/math-comp/mathcomp/field/closed_field.v -> data/coq_files/closed_field.v\n",
      "Copied: data/math-comp/mathcomp/field/separable.v -> data/coq_files/separable.v\n",
      "Copied: data/math-comp/mathcomp/field/qfpoly.v -> data/coq_files/qfpoly.v\n",
      "Copied: data/math-comp/mathcomp/field/galois.v -> data/coq_files/galois.v\n",
      "Copied: data/math-comp/mathcomp/field/algebraics_fundamentals.v -> data/coq_files/algebraics_fundamentals.v\n",
      "Copied: data/math-comp/mathcomp/field/finfield.v -> data/coq_files/finfield.v\n",
      "Copied: data/math-comp/mathcomp/field/cyclotomic.v -> data/coq_files/cyclotomic.v\n",
      "Copied: data/math-comp/mathcomp/field/all_field.v -> data/coq_files/all_field.v\n",
      "Copied: data/math-comp/mathcomp/field/falgebra.v -> data/coq_files/falgebra.v\n",
      "Copied: data/math-comp/mathcomp/field/algC.v -> data/coq_files/algC.v\n",
      "Copied: data/math-comp/mathcomp/field/algnum.v -> data/coq_files/algnum.v\n",
      "Copied: data/math-comp/mathcomp/fingroup/presentation.v -> data/coq_files/presentation.v\n",
      "Copied: data/math-comp/mathcomp/fingroup/perm.v -> data/coq_files/perm.v\n",
      "Copied: data/math-comp/mathcomp/fingroup/all_fingroup.v -> data/coq_files/all_fingroup.v\n",
      "Copied: data/math-comp/mathcomp/fingroup/quotient.v -> data/coq_files/quotient.v\n",
      "Copied: data/math-comp/mathcomp/fingroup/automorphism.v -> data/coq_files/automorphism.v\n",
      "Copied: data/math-comp/mathcomp/fingroup/morphism.v -> data/coq_files/morphism.v\n",
      "Copied: data/math-comp/mathcomp/fingroup/fingroup.v -> data/coq_files/fingroup.v\n",
      "Copied: data/math-comp/mathcomp/fingroup/action.v -> data/coq_files/action.v\n",
      "Copied: data/math-comp/mathcomp/fingroup/gproduct.v -> data/coq_files/gproduct.v\n",
      "Copied: data/math-comp/mathcomp/character/mxrepresentation.v -> data/coq_files/mxrepresentation.v\n",
      "Copied: data/math-comp/mathcomp/character/all_character.v -> data/coq_files/all_character.v\n",
      "Copied: data/math-comp/mathcomp/character/classfun.v -> data/coq_files/classfun.v\n",
      "Copied: data/math-comp/mathcomp/character/mxabelem.v -> data/coq_files/mxabelem.v\n",
      "Copied: data/math-comp/mathcomp/character/vcharacter.v -> data/coq_files/vcharacter.v\n",
      "Copied: data/math-comp/mathcomp/character/inertia.v -> data/coq_files/inertia.v\n",
      "Copied: data/math-comp/mathcomp/character/character.v -> data/coq_files/character.v\n",
      "Copied: data/math-comp/mathcomp/character/integral_char.v -> data/coq_files/integral_char.v\n",
      "Copied: data/math-comp/mathcomp/all/all.v -> data/coq_files/all.v\n",
      "Copied: data/math-comp/mathcomp/test_suite/test_guard.v -> data/coq_files/test_guard.v\n",
      "Copied: data/math-comp/mathcomp/test_suite/imset2_finset.v -> data/coq_files/imset2_finset.v\n",
      "Copied: data/math-comp/mathcomp/test_suite/output.v -> data/coq_files/output.v\n",
      "Copied: data/math-comp/mathcomp/test_suite/imset2_gproduct.v -> data/coq_files/imset2_gproduct.v\n",
      "Copied: data/math-comp/mathcomp/test_suite/test_rat.v -> data/coq_files/test_rat.v\n",
      "Copied: data/math-comp/mathcomp/test_suite/test_regular_conv.v -> data/coq_files/test_regular_conv.v\n",
      "Copied: data/math-comp/mathcomp/test_suite/test_intro_rw.v -> data/coq_files/test_intro_rw.v\n",
      "Copied: data/math-comp/mathcomp/test_suite/test_ssrAC.v -> data/coq_files/test_ssrAC.v\n",
      "Copied: data/math-comp/mathcomp/test_suite/test_order_conv.v -> data/coq_files/test_order_conv.v\n"
     ]
    }
   ],
   "source": [
    "# Extract Coq files\n",
    "input_folder = \"data/math-comp\"\n",
    "output_folder = \"data/coq_files\"\n",
    "if not os.path.isdir(output_folder):\n",
    "    filter_coq_files(input_folder, output_folder)\n",
    "elif not os.listdir(output_folder):\n",
    "    filter_coq_files(input_folder, output_folder)"
   ]
  },
  {
   "cell_type": "markdown",
   "id": "34d53fe5-4843-4fa1-8949-37a9d323e07a",
   "metadata": {},
   "source": [
    "## Preprocess the **dataset** and initialize the **dataloaders**"
   ]
  },
  {
   "cell_type": "code",
   "execution_count": 4,
   "id": "a6484a5e-f927-4c17-bdd4-f444fe31178b",
   "metadata": {},
   "outputs": [
    {
     "name": "stdout",
     "output_type": "stream",
     "text": [
      "Data loaders initialized\n"
     ]
    }
   ],
   "source": [
    "# Directory containing Coq files\n",
    "directory = 'data/coq_files'\n",
    "\n",
    "# Tokenize the Coq code\n",
    "tokens, token_info = tokenize_coq_files_in_directory(directory)\n",
    "\n",
    "# Create sequences of tokens and their labels\n",
    "seq_length = 6\n",
    "sequences, labels = create_sequences_and_labels(tokens, token_info, seq_length)\n",
    "\n",
    "# Build the vocabulary and convert to indexed sequences\n",
    "token_to_index = build_vocab(tokens)\n",
    "indexed_sequences = tokens_to_indices(sequences, token_to_index)\n",
    "\n",
    "# Split into train, validation, and test sets\n",
    "train_seqs, train_labels, val_seqs, val_labels, test_seqs, test_labels = split_data(indexed_sequences, labels, seed)\n",
    "\n",
    "# Create Dataset and DataLoader for each split\n",
    "train_dataset = CoqTokenDataset(train_seqs, train_labels)\n",
    "val_dataset = CoqTokenDataset(val_seqs, val_labels)\n",
    "test_dataset = CoqTokenDataset(test_seqs, test_labels)\n",
    "\n",
    "# Create the dataloaders\n",
    "batch_size = 256\n",
    "train_loader = DataLoader(train_dataset, batch_size=batch_size, shuffle=False, generator=torch.Generator().manual_seed(seed))\n",
    "val_loader = DataLoader(val_dataset, batch_size=batch_size)\n",
    "test_loader = DataLoader(test_dataset, batch_size=batch_size)\n",
    "\n",
    "print(\"Data loaders initialized\")"
   ]
  },
  {
   "cell_type": "markdown",
   "id": "783d6e36-15b7-4f1a-85d5-7f0ff966d6a2",
   "metadata": {},
   "source": [
    "## Load and evaluate the model"
   ]
  },
  {
   "cell_type": "code",
   "execution_count": 5,
   "id": "2ee25222-15ca-4137-a1e2-146181de2391",
   "metadata": {},
   "outputs": [
    {
     "name": "stdout",
     "output_type": "stream",
     "text": [
      "Using device: cuda\n"
     ]
    }
   ],
   "source": [
    "# Get the device\n",
    "device = torch.device(\"cuda\" if torch.cuda.is_available() else \"cpu\")\n",
    "print(\"Using device:\", device)"
   ]
  },
  {
   "cell_type": "code",
   "execution_count": 6,
   "id": "3d8ee093-d1f1-4d08-9e3b-73a1c68ef143",
   "metadata": {},
   "outputs": [
    {
     "name": "stderr",
     "output_type": "stream",
     "text": [
      "/tmp/ipykernel_10101/4154836927.py:3: FutureWarning: You are using `torch.load` with `weights_only=False` (the current default value), which uses the default pickle module implicitly. It is possible to construct malicious pickle data which will execute arbitrary code during unpickling (See https://github.com/pytorch/pytorch/blob/main/SECURITY.md#untrusted-models for more details). In a future release, the default value for `weights_only` will be flipped to `True`. This limits the functions that could be executed during unpickling. Arbitrary objects will no longer be allowed to be loaded via this mode unless they are explicitly allowlisted by the user via `torch.serialization.add_safe_globals`. We recommend you start setting `weights_only=True` for any use case where you don't have full control of the loaded file. Please open an issue on GitHub for any issues related to this experimental feature.\n",
      "  model = torch.load(pretrained_model_path).to(device)\n"
     ]
    }
   ],
   "source": [
    "# Initialize the model architecture\n",
    "pretrained_model_path = \"pretrained_models/Transformer.pth\"\n",
    "model = torch.load(pretrained_model_path).to(device)"
   ]
  },
  {
   "cell_type": "code",
   "execution_count": 7,
   "id": "8ef61dc6-d4e4-497e-90d7-8071eb1f015f",
   "metadata": {},
   "outputs": [
    {
     "name": "stdout",
     "output_type": "stream",
     "text": [
      "Training Accuracy: 0.3188, Validation Accuracy: 0.3178, Test Accuracy: 0.3179\n"
     ]
    }
   ],
   "source": [
    "# Calculate and print the overall accuracy\n",
    "train_accuracy = eval(train_loader, model, device)\n",
    "val_accuracy = eval(val_loader, model, device)\n",
    "test_accuracy = eval(test_loader, model, device)\n",
    "print(f\"Training Accuracy: {train_accuracy:.4f}, Validation Accuracy: {val_accuracy:.4f}, Test Accuracy: {test_accuracy:.4f}\")"
   ]
  },
  {
   "cell_type": "markdown",
   "id": "a51326bd-3cf9-4f04-84dd-beb4753405c3",
   "metadata": {},
   "source": [
    "### Final note:\n",
    "\n",
    "**After training a model with these parameters:**\n",
    "\n",
    "**Model Architecture: Transformer**\n",
    "\n",
    "- **Hidden Dimension:** 768\n",
    "- **Embedding Dimension:** 768\n",
    "- **Number of Heads:** 8\n",
    "- **Sequence Length:** 6\n",
    "- **Batch Size:** 256\n",
    "- **Learning Rate:** 0.00002\n",
    "- **Epochs:** 15\n",
    "\n",
    "---\n",
    "\n",
    "**Final Results:**\n",
    "\n",
    "- **Training Accuracy:** 99.72%\n",
    "- **Validation Accuracy:** 98.65%\n",
    "- **Test Accuracy:** 98.67%\n",
    "\n",
    "---\n",
    "\n",
    "After saving the trained model, I encountered a discrepancy: when reloading and testing the model, I was unable to reproduce these high accuracy scores (even after setting the random seed)."
   ]
  }
 ],
 "metadata": {
  "kernelspec": {
   "display_name": "Python 3 (ipykernel)",
   "language": "python",
   "name": "python3"
  },
  "language_info": {
   "codemirror_mode": {
    "name": "ipython",
    "version": 3
   },
   "file_extension": ".py",
   "mimetype": "text/x-python",
   "name": "python",
   "nbconvert_exporter": "python",
   "pygments_lexer": "ipython3",
   "version": "3.11.7"
  }
 },
 "nbformat": 4,
 "nbformat_minor": 5
}
