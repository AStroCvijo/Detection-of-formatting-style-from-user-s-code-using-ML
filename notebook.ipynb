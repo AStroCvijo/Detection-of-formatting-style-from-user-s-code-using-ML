{
 "cells": [
  {
   "cell_type": "code",
   "execution_count": 2,
   "id": "5e84dcb3-82b0-4744-ac26-eec3f1ade3f3",
   "metadata": {},
   "outputs": [],
   "source": [
    "import os\n",
    "import torch\n",
    "import torch.nn as nn\n",
    "from torch.nn.utils.rnn import pad_sequence, pack_padded_sequence\n",
    "from sklearn.model_selection import train_test_split\n",
    "from torch.utils.data import DataLoader, Dataset, TensorDataset\n",
    "from sklearn.preprocessing import LabelEncoder\n",
    "\n",
    "# Import the function for evaluating the model\n",
    "from train.eval import eval\n",
    "\n",
    "# Import the function for filtering Coq files\n",
    "from data.data_functions import filter_coq_files\n",
    "\n",
    "# Import functions for seed setting\n",
    "from utils.seed import set_seed, init_weights\n",
    "\n",
    "# Import the functions for preprocessing the data\n",
    "from data.data_functions import (\n",
    "    tokenize_coq_files_in_directory,\n",
    "    create_sequences_and_labels,\n",
    "    build_vocab,\n",
    "    tokens_to_indices,\n",
    "    split_data,\n",
    "    CoqTokenDataset\n",
    ")\n",
    "\n",
    "# Import the models\n",
    "from model.LSTM import LSTM\n",
    "from model.transformer import Transformer\n",
    "from model.n_gram import NGram\n",
    "from model.LSTMFS import LSTMFS"
   ]
  },
  {
   "cell_type": "code",
   "execution_count": 3,
   "id": "c70075ea-1b40-480e-a524-8e96ee33db52",
   "metadata": {},
   "outputs": [],
   "source": [
    "# Set the seed\n",
    "seed = 42\n",
    "set_seed(seed)"
   ]
  },
  {
   "cell_type": "markdown",
   "id": "cf92a343-70fd-4cb6-807a-a52e72024773",
   "metadata": {},
   "source": [
    "## Extract the **Coq** files from **\"math-comp\"** folder"
   ]
  },
  {
   "cell_type": "code",
   "execution_count": 5,
   "id": "68231097-2e1a-47df-8162-909eb618b790",
   "metadata": {},
   "outputs": [],
   "source": [
    "# Extract Coq files\n",
    "input_folder = \"data/math-comp\"\n",
    "output_folder = \"data/coq_files\"\n",
    "if not os.path.isdir(output_folder):\n",
    "    filter_coq_files(input_folder, output_folder)\n",
    "elif not os.listdir(output_folder):\n",
    "    filter_coq_files(input_folder, output_folder)"
   ]
  },
  {
   "cell_type": "markdown",
   "id": "34d53fe5-4843-4fa1-8949-37a9d323e07a",
   "metadata": {},
   "source": [
    "## Preprocess the **dataset** and initialize the **dataloaders**"
   ]
  },
  {
   "cell_type": "code",
   "execution_count": 7,
   "id": "a6484a5e-f927-4c17-bdd4-f444fe31178b",
   "metadata": {},
   "outputs": [
    {
     "name": "stdout",
     "output_type": "stream",
     "text": [
      "Data loaders initialized\n"
     ]
    }
   ],
   "source": [
    "# Directory containing Coq files\n",
    "directory = 'data/coq_files'\n",
    "\n",
    "# Tokenize the Coq code\n",
    "tokens, token_info = tokenize_coq_files_in_directory(directory)\n",
    "\n",
    "# Create sequences of tokens and their labels\n",
    "seq_length = 6\n",
    "sequences, labels = create_sequences_and_labels(tokens, token_info, seq_length)\n",
    "\n",
    "# Build the vocabulary and convert to indexed sequences\n",
    "token_to_index = build_vocab(tokens)\n",
    "indexed_sequences = tokens_to_indices(sequences, token_to_index)\n",
    "\n",
    "# Split into train, validation, and test sets\n",
    "train_seqs, train_labels, val_seqs, val_labels, test_seqs, test_labels = split_data(indexed_sequences, labels, seed)\n",
    "\n",
    "# Create Dataset and DataLoader for each split\n",
    "train_dataset = CoqTokenDataset(train_seqs, train_labels)\n",
    "val_dataset = CoqTokenDataset(val_seqs, val_labels)\n",
    "test_dataset = CoqTokenDataset(test_seqs, test_labels)\n",
    "\n",
    "# Create the dataloaders\n",
    "batch_size = 256\n",
    "train_loader = DataLoader(train_dataset, batch_size=batch_size, shuffle=True, generator=torch.Generator().manual_seed(seed))\n",
    "val_loader = DataLoader(val_dataset, batch_size=batch_size)\n",
    "test_loader = DataLoader(test_dataset, batch_size=batch_size)\n",
    "\n",
    "print(\"Data loaders initialized\")"
   ]
  },
  {
   "cell_type": "markdown",
   "id": "783d6e36-15b7-4f1a-85d5-7f0ff966d6a2",
   "metadata": {},
   "source": [
    "## Load and evaluate the model"
   ]
  },
  {
   "cell_type": "code",
   "execution_count": 9,
   "id": "2ee25222-15ca-4137-a1e2-146181de2391",
   "metadata": {},
   "outputs": [
    {
     "name": "stdout",
     "output_type": "stream",
     "text": [
      "Using device: cuda\n"
     ]
    }
   ],
   "source": [
    "# Get the device\n",
    "device = torch.device(\"cuda\" if torch.cuda.is_available() else \"cpu\")\n",
    "print(\"Using device:\", device)"
   ]
  },
  {
   "cell_type": "code",
   "execution_count": 10,
   "id": "3d8ee093-d1f1-4d08-9e3b-73a1c68ef143",
   "metadata": {},
   "outputs": [
    {
     "name": "stderr",
     "output_type": "stream",
     "text": [
      "C:\\Users\\jovan\\AppData\\Local\\Temp\\ipykernel_14408\\525818018.py:3: FutureWarning: You are using `torch.load` with `weights_only=False` (the current default value), which uses the default pickle module implicitly. It is possible to construct malicious pickle data which will execute arbitrary code during unpickling (See https://github.com/pytorch/pytorch/blob/main/SECURITY.md#untrusted-models for more details). In a future release, the default value for `weights_only` will be flipped to `True`. This limits the functions that could be executed during unpickling. Arbitrary objects will no longer be allowed to be loaded via this mode unless they are explicitly allowlisted by the user via `torch.serialization.add_safe_globals`. We recommend you start setting `weights_only=True` for any use case where you don't have full control of the loaded file. Please open an issue on GitHub for any issues related to this experimental feature.\n",
      "  model = torch.load(pretrained_model_path).to(device)\n"
     ]
    }
   ],
   "source": [
    "# Initialize the model architecture\n",
    "pretrained_model_path = \"pretrained_models/test2.pth\"\n",
    "model = torch.load(pretrained_model_path).to(device)"
   ]
  },
  {
   "cell_type": "code",
   "execution_count": 11,
   "id": "8ef61dc6-d4e4-497e-90d7-8071eb1f015f",
   "metadata": {},
   "outputs": [
    {
     "name": "stdout",
     "output_type": "stream",
     "text": [
      "Training Accuracy: 0.3650, Validation Accuracy: 0.3650, Test Accuracy: 0.3657\n"
     ]
    }
   ],
   "source": [
    "# Calculate and print the overall accuracy\n",
    "train_accuracy = eval(train_loader, model, device)\n",
    "val_accuracy = eval(val_loader, model, device)\n",
    "test_accuracy = eval(test_loader, model, device)\n",
    "print(f\"Training Accuracy: {train_accuracy:.4f}, Validation Accuracy: {val_accuracy:.4f}, Test Accuracy: {test_accuracy:.4f}\")"
   ]
  },
  {
   "cell_type": "code",
   "execution_count": null,
   "id": "85bb8926-17b0-4b32-87d5-346e1b413cbb",
   "metadata": {},
   "outputs": [],
   "source": []
  }
 ],
 "metadata": {
  "kernelspec": {
   "display_name": "Python 3 (ipykernel)",
   "language": "python",
   "name": "python3"
  },
  "language_info": {
   "codemirror_mode": {
    "name": "ipython",
    "version": 3
   },
   "file_extension": ".py",
   "mimetype": "text/x-python",
   "name": "python",
   "nbconvert_exporter": "python",
   "pygments_lexer": "ipython3",
   "version": "3.12.4"
  }
 },
 "nbformat": 4,
 "nbformat_minor": 5
}
