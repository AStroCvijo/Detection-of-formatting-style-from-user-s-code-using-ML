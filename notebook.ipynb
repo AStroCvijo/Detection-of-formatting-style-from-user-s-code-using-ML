{
 "cells": [
  {
   "cell_type": "code",
   "execution_count": 41,
   "id": "5e84dcb3-82b0-4744-ac26-eec3f1ade3f3",
   "metadata": {},
   "outputs": [],
   "source": [
    "import os\n",
    "import torch\n",
    "import torch.nn as nn\n",
    "from torch.nn.utils.rnn import pad_sequence, pack_padded_sequence\n",
    "from sklearn.model_selection import train_test_split\n",
    "from torch.utils.data import DataLoader, Dataset, TensorDataset\n",
    "from sklearn.preprocessing import LabelEncoder\n",
    "\n",
    "# Import the function for evaluating the model\n",
    "from train.eval import eval\n",
    "\n",
    "# Import the function for filtering Coq files\n",
    "from data.data_functions import filter_coq_files\n",
    "\n",
    "# Import the functions for preprocessing the data\n",
    "from data.data_functions import (\n",
    "    tokenize_coq_files_in_directory,\n",
    "    create_sequences_and_labels,\n",
    "    build_vocab,\n",
    "    tokens_to_indices,\n",
    "    split_data,\n",
    "    CoqTokenDataset\n",
    ")\n",
    "\n",
    "# Import the models\n",
    "from model.LSTM import LSTM\n",
    "from model.transformer import Transformer\n",
    "from model.n_gram import NGram\n",
    "from model.LSTMFS import LSTMFS"
   ]
  },
  {
   "cell_type": "markdown",
   "id": "cf92a343-70fd-4cb6-807a-a52e72024773",
   "metadata": {},
   "source": [
    "## Extract the **Coq** files from **\"math-comp\"** folder"
   ]
  },
  {
   "cell_type": "code",
   "execution_count": 44,
   "id": "68231097-2e1a-47df-8162-909eb618b790",
   "metadata": {},
   "outputs": [],
   "source": [
    "# Extract Coq files\n",
    "input_folder = \"data/math-comp\"\n",
    "output_folder = \"data/coq_files\"\n",
    "if not os.path.isdir(output_folder):\n",
    "    filter_coq_files(input_folder, output_folder)\n",
    "elif not os.listdir(output_folder):\n",
    "    filter_coq_files(input_folder, output_folder)"
   ]
  },
  {
   "cell_type": "markdown",
   "id": "34d53fe5-4843-4fa1-8949-37a9d323e07a",
   "metadata": {},
   "source": [
    "## Preprocess the **dataset** and initialize the **dataloaders**"
   ]
  },
  {
   "cell_type": "code",
   "execution_count": 47,
   "id": "a6484a5e-f927-4c17-bdd4-f444fe31178b",
   "metadata": {},
   "outputs": [
    {
     "name": "stdout",
     "output_type": "stream",
     "text": [
      "Data loaders initialized\n"
     ]
    }
   ],
   "source": [
    "# Directory containing Coq files\n",
    "directory = 'data/coq_files'\n",
    "\n",
    "# Tokenize the Coq code\n",
    "tokens, token_info = tokenize_coq_files_in_directory(directory)\n",
    "\n",
    "# Create sequences of tokens and their labels\n",
    "seq_length = 6\n",
    "sequences, labels = create_sequences_and_labels(tokens, token_info, seq_length)\n",
    "\n",
    "# Build the vocabulary and convert to indexed sequences\n",
    "token_to_index = build_vocab(tokens)\n",
    "indexed_sequences = tokens_to_indices(sequences, token_to_index)\n",
    "\n",
    "# Split into train, validation, and test sets\n",
    "train_seqs, train_labels, val_seqs, val_labels, test_seqs, test_labels = split_data(indexed_sequences, labels)\n",
    "\n",
    "# Create Dataset and DataLoader for each split\n",
    "train_dataset = CoqTokenDataset(train_seqs, train_labels)\n",
    "val_dataset = CoqTokenDataset(val_seqs, val_labels)\n",
    "test_dataset = CoqTokenDataset(test_seqs, test_labels)\n",
    "\n",
    "# Create the dataloaders\n",
    "batch_size = 256\n",
    "train_loader = DataLoader(train_dataset, batch_size=batch_size, shuffle=False)\n",
    "val_loader = DataLoader(val_dataset, batch_size=batch_size)\n",
    "test_loader = DataLoader(test_dataset, batch_size=batch_size)\n",
    "\n",
    "print(\"Data loaders initialized\")"
   ]
  },
  {
   "cell_type": "markdown",
   "id": "783d6e36-15b7-4f1a-85d5-7f0ff966d6a2",
   "metadata": {},
   "source": [
    "## Load and evaluate the model"
   ]
  },
  {
   "cell_type": "code",
   "execution_count": 63,
   "id": "2ee25222-15ca-4137-a1e2-146181de2391",
   "metadata": {},
   "outputs": [
    {
     "name": "stdout",
     "output_type": "stream",
     "text": [
      "Using device: cuda\n"
     ]
    }
   ],
   "source": [
    "# Get the device\n",
    "device = torch.device(\"cuda\" if torch.cuda.is_available() else \"cpu\")\n",
    "print(\"Using device:\", device)\n",
    "\n",
    "# Load a pretrained model\n",
    "pretrained_model_path = \"pretrained_models/model.pth\"\n",
    "model = torch.load(pretrained_model_path, weights_only = True)"
   ]
  },
  {
   "cell_type": "code",
   "execution_count": 53,
   "id": "8ef61dc6-d4e4-497e-90d7-8071eb1f015f",
   "metadata": {},
   "outputs": [
    {
     "ename": "NameError",
     "evalue": "name 'device' is not defined",
     "output_type": "error",
     "traceback": [
      "\u001b[1;31m---------------------------------------------------------------------------\u001b[0m",
      "\u001b[1;31mNameError\u001b[0m                                 Traceback (most recent call last)",
      "Cell \u001b[1;32mIn[53], line 2\u001b[0m\n\u001b[0;32m      1\u001b[0m \u001b[38;5;66;03m# Calculate and print the overall accuracy\u001b[39;00m\n\u001b[1;32m----> 2\u001b[0m train_accuracy \u001b[38;5;241m=\u001b[39m \u001b[38;5;28meval\u001b[39m(train_loader, model, device)\n\u001b[0;32m      3\u001b[0m val_accuracy \u001b[38;5;241m=\u001b[39m \u001b[38;5;28meval\u001b[39m(val_loader, model, device)\n\u001b[0;32m      4\u001b[0m test_accuracy \u001b[38;5;241m=\u001b[39m \u001b[38;5;28meval\u001b[39m(test_loader, model, device)\n",
      "\u001b[1;31mNameError\u001b[0m: name 'device' is not defined"
     ]
    }
   ],
   "source": [
    "# Calculate and print the overall accuracy\n",
    "train_accuracy = eval(train_loader, model, device)\n",
    "val_accuracy = eval(val_loader, model, device)\n",
    "test_accuracy = eval(test_loader, model, device)\n",
    "print(f\"Training Accuracy: {train_accuracy:.4f}, Validation Accuracy: {val_accuracy:.4f}, Test Accuracy: {test_accuracy:.4f}\")"
   ]
  },
  {
   "cell_type": "code",
   "execution_count": null,
   "id": "85bb8926-17b0-4b32-87d5-346e1b413cbb",
   "metadata": {},
   "outputs": [],
   "source": []
  }
 ],
 "metadata": {
  "kernelspec": {
   "display_name": "Python 3 (ipykernel)",
   "language": "python",
   "name": "python3"
  },
  "language_info": {
   "codemirror_mode": {
    "name": "ipython",
    "version": 3
   },
   "file_extension": ".py",
   "mimetype": "text/x-python",
   "name": "python",
   "nbconvert_exporter": "python",
   "pygments_lexer": "ipython3",
   "version": "3.12.4"
  }
 },
 "nbformat": 4,
 "nbformat_minor": 5
}
